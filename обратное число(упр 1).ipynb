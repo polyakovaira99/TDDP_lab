{
 "cells": [
  {
   "cell_type": "code",
   "execution_count": 2,
   "metadata": {},
   "outputs": [
    {
     "name": "stdout",
     "output_type": "stream",
     "text": [
      "Vvedite chislo 1234\n",
      "Obratnoe emu 4321\n"
     ]
    }
   ],
   "source": [
    "a= int(input(\"Vvedite chislo \"))\n",
    "b = 0\n",
    " \n",
    "while a > 0:\n",
    "\tnum = a % 10\n",
    "\ta = a // 10\n",
    "\tb = b * 10 \n",
    "\tb = b + num \n",
    " \n",
    "print('Obratnoe emu',b)"
   ]
  },
  {
   "cell_type": "code",
   "execution_count": null,
   "metadata": {},
   "outputs": [],
   "source": []
  }
 ],
 "metadata": {
  "kernelspec": {
   "display_name": "Python 3",
   "language": "python",
   "name": "python3"
  },
  "language_info": {
   "codemirror_mode": {
    "name": "ipython",
    "version": 3
   },
   "file_extension": ".py",
   "mimetype": "text/x-python",
   "name": "python",
   "nbconvert_exporter": "python",
   "pygments_lexer": "ipython3",
   "version": "3.6.3"
  }
 },
 "nbformat": 4,
 "nbformat_minor": 2
}
