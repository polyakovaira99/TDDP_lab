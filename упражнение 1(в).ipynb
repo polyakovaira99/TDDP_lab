{
 "cells": [
  {
   "cell_type": "code",
   "execution_count": 3,
   "metadata": {},
   "outputs": [
    {
     "name": "stdout",
     "output_type": "stream",
     "text": [
      "один два три  четыре\n",
      "один*два*три*четыре\n"
     ]
    }
   ],
   "source": [
    "s = input()\n",
    " \n",
    "i = 0\n",
    "while s[i] == ' ': i+=1\n",
    "s = s[i:]\n",
    " \n",
    "i = len(s)\n",
    "while s[i-1] == ' ': i-=1\n",
    "s = s[:i]\n",
    " \n",
    "s1 = s[0]\n",
    "i = 1\n",
    "while i < len(s):\n",
    " if s[i] != ' ':\n",
    "  s1 += s[i]\n",
    " elif s[i-1] != ' ':\n",
    "  s1 += '*'\n",
    " i += 1\n",
    "print(s1)"
   ]
  },
  {
   "cell_type": "code",
   "execution_count": null,
   "metadata": {},
   "outputs": [],
   "source": []
  }
 ],
 "metadata": {
  "kernelspec": {
   "display_name": "Python 3",
   "language": "python",
   "name": "python3"
  },
  "language_info": {
   "codemirror_mode": {
    "name": "ipython",
    "version": 3
   },
   "file_extension": ".py",
   "mimetype": "text/x-python",
   "name": "python",
   "nbconvert_exporter": "python",
   "pygments_lexer": "ipython3",
   "version": "3.6.3"
  }
 },
 "nbformat": 4,
 "nbformat_minor": 2
}
