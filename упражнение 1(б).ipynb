{
 "cells": [
  {
   "cell_type": "code",
   "execution_count": null,
   "metadata": {},
   "outputs": [
    {
     "name": "stdout",
     "output_type": "stream",
     "text": [
      "Vvedite kolichestvo elementov,mimimum i maximum\n",
      "\n",
      " 2 34 65\n",
      "[51, 42]\n",
      "1.00 0.82 \n",
      "max = 51\n",
      "\n"
     ]
    }
   ],
   "source": [
    "from random import random\n",
    " \n",
    "def make_list(n, mn, mx):\n",
    "    a = []\n",
    "    for i in range(n):\n",
    "        b = int(random() * (mx - mn + 1)) + mn\n",
    "        a.append(b)\n",
    "    return a\n",
    " \n",
    "def max_div(a):\n",
    "    b = max(a)\n",
    "    for i in a:\n",
    "        print('%.2f ' % (i/b), end='')\n",
    "    print()\n",
    "    print('max =', b)\n",
    " \n",
    "print('Vvedite kolichestvo elementov,mimimum i maximum')\n",
    "\n",
    "while 1:\n",
    "    print()\n",
    "    data = input()\n",
    "    if data == '': break\n",
    "    data = data.split()\n",
    "    mylist = make_list(int(data[0]), int(data[1]), int(data[2]))\n",
    "    print(mylist)\n",
    "    max_div(mylist)"
   ]
  },
  {
   "cell_type": "code",
   "execution_count": null,
   "metadata": {},
   "outputs": [],
   "source": []
  },
  {
   "cell_type": "code",
   "execution_count": null,
   "metadata": {},
   "outputs": [],
   "source": []
  },
  {
   "cell_type": "code",
   "execution_count": null,
   "metadata": {},
   "outputs": [],
   "source": []
  }
 ],
 "metadata": {
  "kernelspec": {
   "display_name": "Python 3",
   "language": "python",
   "name": "python3"
  },
  "language_info": {
   "codemirror_mode": {
    "name": "ipython",
    "version": 3
   },
   "file_extension": ".py",
   "mimetype": "text/x-python",
   "name": "python",
   "nbconvert_exporter": "python",
   "pygments_lexer": "ipython3",
   "version": "3.6.3"
  }
 },
 "nbformat": 4,
 "nbformat_minor": 2
}
