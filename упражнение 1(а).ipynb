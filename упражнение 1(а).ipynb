{
 "cells": [
  {
   "cell_type": "code",
   "execution_count": 4,
   "metadata": {},
   "outputs": [
    {
     "name": "stdout",
     "output_type": "stream",
     "text": [
      "Diametr 5\n",
      "Visota 6\n",
      "S odnoy banki 15\n",
      "kolichestvo banok 18\n"
     ]
    }
   ],
   "source": [
    "d = input(\"Diametr \")\n",
    "d = float(d)\n",
    "h = input(\"Visota \")\n",
    "h = float(h)\n",
    "s = input(\"S odnoy banki \")\n",
    "s = int(s)\n",
    " \n",
    "\n",
    " \n",
    "circle = 3.14 * d**2 / 4 \n",
    "cylinder = 3.14 * d * h\n",
    "polniy = circle * 4 + cylinder * 2 \n",
    "kolichestvo = polniy / s \n",
    "kolichestvo = int(kolichestvo) + 1 \n",
    "print(\"kolichestvo banok\", kolichestvo)\n"
   ]
  },
  {
   "cell_type": "code",
   "execution_count": 7,
   "metadata": {},
   "outputs": [
    {
     "name": "stdout",
     "output_type": "stream",
     "text": [
      "[49, 19, 41, 17, 43]\n"
     ]
    }
   ],
   "source": [
    "from random import random\n",
    "N = 5\n",
    "arr = [0] * N\n",
    "for i in range(N):\n",
    "    arr[i] = int(random() * 50)\n",
    "print(arr)\n"
   ]
  },
  {
   "cell_type": "code",
   "execution_count": null,
   "metadata": {},
   "outputs": [],
   "source": []
  },
  {
   "cell_type": "code",
   "execution_count": null,
   "metadata": {},
   "outputs": [],
   "source": []
  }
 ],
 "metadata": {
  "kernelspec": {
   "display_name": "Python 3",
   "language": "python",
   "name": "python3"
  },
  "language_info": {
   "codemirror_mode": {
    "name": "ipython",
    "version": 3
   },
   "file_extension": ".py",
   "mimetype": "text/x-python",
   "name": "python",
   "nbconvert_exporter": "python",
   "pygments_lexer": "ipython3",
   "version": "3.6.3"
  }
 },
 "nbformat": 4,
 "nbformat_minor": 2
}
